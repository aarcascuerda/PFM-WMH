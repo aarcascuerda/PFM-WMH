{
 "cells": [
  {
   "cell_type": "markdown",
   "metadata": {},
   "source": [
    "# Build Reference Standard Masks\n",
    "\n",
    "In this notebook there is all the code needed to compute the metrics used in this workf for evaluation. This is the notebook used to generate the metric results CSV which is later used for comparisons and evaluation.\n",
    "\n",
    "Requirements not available in this repository:\n",
    "* To be able to run this code one needs to run it in an eviroment with the python packages: __numpy__, __pandas__.\n",
    "* To be able to run this code one needs the __MRI sequences__ for each subject wich is not uploaded."
   ]
  },
  {
   "cell_type": "code",
   "execution_count": 1,
   "metadata": {},
   "outputs": [],
   "source": [
    "import os\n",
    "import pandas as pd\n",
    "\n",
    "import metrics\n",
    "from utils import getImages, get_subject_path\n",
    "from constants import *"
   ]
  },
  {
   "cell_type": "code",
   "execution_count": 2,
   "metadata": {},
   "outputs": [],
   "source": [
    "# List all the available subjects\n",
    "subject_codes = os.listdir('../results/')"
   ]
  },
  {
   "cell_type": "code",
   "execution_count": 3,
   "metadata": {},
   "outputs": [],
   "source": [
    "data = []\n",
    "\n",
    "# Loop over al the teams\n",
    "for team_name in TEAM_NAMES:\n",
    "    \n",
    "    # Loop over all subject results\n",
    "    for subject_code in subject_codes:\n",
    "        \n",
    "        # Catch if any results are wrong or missing\n",
    "        try:\n",
    "            \n",
    "            # Read result and test image\n",
    "            subject_path = get_subject_path(subject_code)\n",
    "            test_image, result_image = getImages(\n",
    "                f'{subject_path}input/wmh_gauss.nii.gz',\n",
    "                f'{subject_path}{team_name}/result.nii.gz'\n",
    "            )\n",
    "\n",
    "            # Compute metrics\n",
    "            dsc = metrics.getDSC(test_image, result_image)\n",
    "            h95 = metrics.getHausdorff(test_image, result_image)\n",
    "            vol = metrics.getVOL(test_image, result_image)    \n",
    "            recall, f1, nWMH = metrics.getLesionDetection(test_image, result_image)\n",
    "\n",
    "            # Data to insert\n",
    "            data.append({\n",
    "                'Subject Code': subject_code,\n",
    "                'Team Name': team_name,\n",
    "                DSC: dsc,\n",
    "                HDF: h95,\n",
    "                VOL: vol,\n",
    "                REC: recall,\n",
    "                F1: f1,\n",
    "                DWMH: int(nWMH * recall),\n",
    "                NWMH: int(nWMH)\n",
    "            })\n",
    "        except RuntimeError as e:\n",
    "            print(e)\n",
    "            data.append({\n",
    "                'Subject Code': subject_code,\n",
    "                'Team Name': team_name,\n",
    "                DSC: None,\n",
    "                HDF: None,\n",
    "                VOL: None,\n",
    "                REC: None,\n",
    "                F1: None,\n",
    "                DWMH: None,\n",
    "                NWMH: None\n",
    "            })\n",
    "\n",
    "    # Create pandas DataFrame and save as CSV\n",
    "    results_df = pd.DataFrame(data)\n",
    "    results_df.to_csv(f'../metric_results.csv', sep=';')"
   ]
  },
  {
   "cell_type": "code",
   "execution_count": null,
   "metadata": {},
   "outputs": [],
   "source": []
  }
 ],
 "metadata": {
  "kernelspec": {
   "display_name": "Python 3",
   "language": "python",
   "name": "python3"
  },
  "language_info": {
   "codemirror_mode": {
    "name": "ipython",
    "version": 3
   },
   "file_extension": ".py",
   "mimetype": "text/x-python",
   "name": "python",
   "nbconvert_exporter": "python",
   "pygments_lexer": "ipython3",
   "version": "3.8.2"
  }
 },
 "nbformat": 4,
 "nbformat_minor": 4
}
