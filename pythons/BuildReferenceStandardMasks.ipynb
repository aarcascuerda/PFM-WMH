{
 "cells": [
  {
   "cell_type": "markdown",
   "metadata": {},
   "source": [
    "# Build Reference Standard Masks\n",
    "\n",
    "In this notebook there is all the code needed to build the binary and gaussian reference standard masks used for evaluation. \n",
    "\n",
    "Requirements not available in this repository:\n",
    "* To be able to run this code one needs to run it in an eviroment with the python packages: __numpy__, __SimpleITK__.\n",
    "* To be able to run this code one needs the __MRI sequences__ for each subject wich is not uploaded.\n",
    "* To be able to run this code one needs to run it in an __Ubuntu__ distribution with __sudo__ privilegies as well as the __fsl__ package installed on the root and with the __FSLPATH__ set in the bash profile. "
   ]
  },
  {
   "cell_type": "code",
   "execution_count": 1,
   "metadata": {},
   "outputs": [],
   "source": [
    "import numpy as np\n",
    "import SimpleITK as sitk\n",
    "import os\n",
    "import subprocess\n",
    "\n",
    "from utils import excel_data, get_subject_path"
   ]
  },
  {
   "cell_type": "code",
   "execution_count": 2,
   "metadata": {},
   "outputs": [],
   "source": [
    "subjects_data = {}\n",
    "\n",
    "# Join subjects data for easier use\n",
    "for row in excel_data:\n",
    "    code = row['CODI'][:15]  # Subject identifier code\n",
    "    data = {\n",
    "            'size': row['SIZE'],\n",
    "            'coordinates': np.array([row['X'], row['Y'], row['Z']]),\n",
    "        }\n",
    "    if code in subjects_data.keys():\n",
    "        subjects_data[code].append(data)\n",
    "    else:\n",
    "        subjects_data[code] = [data]"
   ]
  },
  {
   "cell_type": "code",
   "execution_count": 3,
   "metadata": {},
   "outputs": [],
   "source": [
    "images_shape = np.array([22, 512, 512])  # Y Z X\n",
    "gaussian_filter_mm = 2\n",
    "mask_name = 'wmh.nii.gz'\n",
    "gaussian_mask_name = 'wmh_gauss.nii.gz'\n",
    "\n",
    "# Loop over all subjects\n",
    "for subject_code, subject_data in list(subjects_data.items()):\n",
    "    \n",
    "    # Create mask arrays\n",
    "    test_array = np.zeros(images_shape, dtype=np.float)\n",
    "    for element in subject_data:\n",
    "        x, y, z = element['coordinates'].astype(int) - 1  # Move origin to 0.\n",
    "        test_array[y, z, x] += 1\n",
    "    test_array = np.flip(test_array, (0, 2))  # Axis Y and X are inverted when visualizing\n",
    "    \n",
    "    # Check that exists the data for this subject\n",
    "    subject_path = get_subject_path(subject_code)\n",
    "    if not os.path.isdir(subject_path):\n",
    "        print(subject_path)\n",
    "        continue\n",
    "    \n",
    "    # Create image and add metadata from original FLAIR space\n",
    "    test_image = sitk.GetImageFromArray(test_array)\n",
    "    flair_image = sitk.ReadImage(f'{subject_path}input/orig/FLAIR.nii.gz')\n",
    "    test_image.CopyInformation(flair_image)\n",
    "    \n",
    "    # Write mask\n",
    "    mask_path = f'{subject_path}input/{mask_name}'\n",
    "    sitk.WriteImage(test_image, mask_path)\n",
    "    \n",
    "    # Apply FSL gaussian filter\n",
    "    bash_command = f'cd {subject_path}/input; fslmaths {mask_name} -s {gaussian_filter_mm} {gaussian_mask_name}'\n",
    "    if not subprocess.run(bash_command, shell=True):\n",
    "        raise Exception('Something went wrong while applying the gaussian filter.')\n"
   ]
  },
  {
   "cell_type": "code",
   "execution_count": null,
   "metadata": {},
   "outputs": [],
   "source": []
  }
 ],
 "metadata": {
  "kernelspec": {
   "display_name": "Python 3",
   "language": "python",
   "name": "python3"
  },
  "language_info": {
   "codemirror_mode": {
    "name": "ipython",
    "version": 3
   },
   "file_extension": ".py",
   "mimetype": "text/x-python",
   "name": "python",
   "nbconvert_exporter": "python",
   "pygments_lexer": "ipython3",
   "version": "3.8.2"
  }
 },
 "nbformat": 4,
 "nbformat_minor": 4
}
